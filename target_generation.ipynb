{
 "cells": [
  {
   "cell_type": "code",
   "execution_count": 1,
   "id": "3e7b55ae-a6b0-4dbe-b448-2646916e7a51",
   "metadata": {},
   "outputs": [
    {
     "name": "stdout",
     "output_type": "stream",
     "text": [
      "Requirement already satisfied: pandas in c:\\python312\\lib\\site-packages (2.1.4)\n",
      "Requirement already satisfied: numpy<2,>=1.26.0 in c:\\python312\\lib\\site-packages (from pandas) (1.26.2)\n",
      "Requirement already satisfied: python-dateutil>=2.8.2 in c:\\python312\\lib\\site-packages (from pandas) (2.8.2)\n",
      "Requirement already satisfied: pytz>=2020.1 in c:\\python312\\lib\\site-packages (from pandas) (2023.3.post1)\n",
      "Requirement already satisfied: tzdata>=2022.1 in c:\\python312\\lib\\site-packages (from pandas) (2023.4)\n",
      "Requirement already satisfied: six>=1.5 in c:\\python312\\lib\\site-packages (from python-dateutil>=2.8.2->pandas) (1.16.0)\n",
      "Note: you may need to restart the kernel to use updated packages.\n"
     ]
    },
    {
     "name": "stderr",
     "output_type": "stream",
     "text": [
      "WARNING: There was an error checking the latest version of pip.\n"
     ]
    }
   ],
   "source": [
    "pip install pandas"
   ]
  },
  {
   "cell_type": "code",
   "execution_count": 2,
   "id": "25501ad2-3766-4e78-9d82-3eff40677982",
   "metadata": {},
   "outputs": [
    {
     "name": "stdout",
     "output_type": "stream",
     "text": [
      "Requirement already satisfied: scikit-learn in c:\\python312\\lib\\site-packages (1.5.0)\n",
      "Requirement already satisfied: numpy>=1.19.5 in c:\\python312\\lib\\site-packages (from scikit-learn) (1.26.2)\n",
      "Requirement already satisfied: scipy>=1.6.0 in c:\\python312\\lib\\site-packages (from scikit-learn) (1.13.0)\n",
      "Requirement already satisfied: joblib>=1.2.0 in c:\\python312\\lib\\site-packages (from scikit-learn) (1.4.2)\n",
      "Requirement already satisfied: threadpoolctl>=3.1.0 in c:\\python312\\lib\\site-packages (from scikit-learn) (3.5.0)\n",
      "Note: you may need to restart the kernel to use updated packages.\n"
     ]
    },
    {
     "name": "stderr",
     "output_type": "stream",
     "text": [
      "WARNING: There was an error checking the latest version of pip.\n"
     ]
    }
   ],
   "source": [
    "pip install -U scikit-learn"
   ]
  },
  {
   "cell_type": "markdown",
   "id": "14cbaac7-de62-49d3-b14a-8975fffe84b6",
   "metadata": {},
   "source": [
    "### Formula para el target\n",
    "t = tiempo ejecución promedio\\\n",
    "e = error relativo promedio\\\n",
    "w1 = peso de t\\\n",
    "w2 = peso de e\n",
    "\n",
    "Si t > 0 ((log_10(t)-3) / 3) x W1 + e x W2 \\\n",
    "Si t == 0 ((t-3)/3) x W1 + e x W2"
   ]
  },
  {
   "cell_type": "markdown",
   "id": "0ce70ba1-170b-4d58-b6c5-a6673754865a",
   "metadata": {},
   "source": [
    "### Cargar archivos"
   ]
  },
  {
   "cell_type": "code",
   "execution_count": 1,
   "id": "d15bb35b-1ed8-4b02-bf0c-2ed86f7f716a",
   "metadata": {},
   "outputs": [],
   "source": [
    "import pandas as pd\n",
    "import os\n",
    "import glob\n",
    "import math as mt"
   ]
  },
  {
   "cell_type": "code",
   "execution_count": 17,
   "id": "7b7a5503-1a5a-4b75-a59c-17ea64da227d",
   "metadata": {},
   "outputs": [],
   "source": [
    "#def generate_target(t, e, w1, w2):\n",
    "#    fix = 0\n",
    "#    if t != 0: \n",
    "#        fix = mt.log10(t/10) #Considerando que todos los tiempos promedios dan en milisegundos\n",
    "#    else: fix = t\n",
    "#    if fix-3.0 >= 0:\n",
    "#        return (((fix-3.0)/3.0)*w1 + e*w2)\n",
    "#    else:\n",
    "#        return ((-1*(fix-3.0)/3.0)*w1 + e*w2)\n",
    "def generate_target2(t0,t,e,k,w1,w2):\n",
    "    t0 = t0/1000\n",
    "    t = t/1000\n",
    "    if k*(t-t0) > 709:\n",
    "        return 0\n",
    "    elif k*(t-t0) < -709:\n",
    "        return 1\n",
    "    else:\n",
    "        return (1/(1+mt.exp(k*(t-t0))))*w1 + (1-e)*w2\n",
    "        \n",
    "def generate_binary_label(score, threshold=0.5):\n",
    "    if score >= threshold:\n",
    "        return 1\n",
    "    else:\n",
    "        return 0"
   ]
  },
  {
   "cell_type": "code",
   "execution_count": 3,
   "id": "98915263-a800-42d6-864f-fe4f537b41d1",
   "metadata": {},
   "outputs": [],
   "source": [
    "#df = pd.concat(map(pd.read_csv, joined_list), ignore_index=True)\n",
    "#df = pd.concat(map(pd.read_csv,[\"./data/kp/datos1.csv\",\"./data/kp/datos2.csv\"]))\n",
    "df2 = pd.read_csv(\"./data/kp/datos-50-1000.csv\", dtype={\"Generacion\": int, \"Numero de nodos\": int, \"Numero de funciones\":int, \"Numero de terminales\":int, \n",
    "                                                 \"Iteraciones Promedio DoWhile\":int, \"Profundidad\":int, \"Terminal Agregar\":int, \"Terminal Eliminar\":int, \"Terminal Mejora\":int,\n",
    "                                                 \"ErrorRelativoPromedio\":float,\"Fitness\":float,\"Tiempo de Ejecucion Promedio(ms)\":float })"
   ]
  },
  {
   "cell_type": "code",
   "execution_count": 4,
   "id": "40f61a68-5346-469c-b973-7c3cd97216d9",
   "metadata": {},
   "outputs": [
    {
     "name": "stdout",
     "output_type": "stream",
     "text": [
      "        Generacion  Numero de Nodos  Numero de Terminales  \\\n",
      "0                0                4                     3   \n",
      "1                0                2                     1   \n",
      "2                0                7                     4   \n",
      "3                0                4                     2   \n",
      "4                0               10                     4   \n",
      "...            ...              ...                   ...   \n",
      "999995         999              352                   171   \n",
      "999996         999              364                   177   \n",
      "999997         999              326                   160   \n",
      "999998         999              280                   136   \n",
      "999999         999              339                   167   \n",
      "\n",
      "        Numero de Funciones  Iteraciones Promedio DoWhile  Terminal Agregar  \\\n",
      "0                         1                             0                 1   \n",
      "1                         1                             0                 0   \n",
      "2                         3                           200                 2   \n",
      "3                         2                             0                 0   \n",
      "4                         6                             0                 1   \n",
      "...                     ...                           ...               ...   \n",
      "999995                  181                          1400                83   \n",
      "999996                  187                          1400                86   \n",
      "999997                  166                          1800                70   \n",
      "999998                  144                          1000                68   \n",
      "999999                  172                          1400                79   \n",
      "\n",
      "        Terminal Eliminar  Terminal Mejora  Profundidad  \\\n",
      "0                       0                1            2   \n",
      "1                       0                1            2   \n",
      "2                       1                1            3   \n",
      "3                       2                0            3   \n",
      "4                       1                0            5   \n",
      "...                   ...              ...          ...   \n",
      "999995                 49                7           20   \n",
      "999996                 54                7           20   \n",
      "999997                 50                7           20   \n",
      "999998                 34                8           20   \n",
      "999999                 50                8           20   \n",
      "\n",
      "        ErrorRelativoPromedio  Tiempo(ms)  \\\n",
      "0                    1.000000    0.000000   \n",
      "1                    1.000000    0.000000   \n",
      "2                    0.951153    0.000000   \n",
      "3                    1.000000    0.000000   \n",
      "4                    1.000000    0.100000   \n",
      "...                       ...         ...   \n",
      "999995               0.000120   11.188889   \n",
      "999996               0.000120   11.044444   \n",
      "999997               0.000120   10.855556   \n",
      "999998               0.000120    9.966667   \n",
      "999999               0.000120    9.466667   \n",
      "\n",
      "                                         Node Name  \n",
      "0         ec.gp.GPIndividual@705464801{-607031776}  \n",
      "1         ec.gp.GPIndividual@775096440{-821841726}  \n",
      "2        ec.gp.GPIndividual@175099120{-2117592996}  \n",
      "3       ec.gp.GPIndividual@1327428225{-1982521476}  \n",
      "4           ec.gp.GPIndividual@33398474{555456460}  \n",
      "...                                            ...  \n",
      "999995    ec.gp.GPIndividual@171712261{1924081971}  \n",
      "999996      ec.gp.GPIndividual@43260727{654593464}  \n",
      "999997    ec.gp.GPIndividual@323607726{-215211216}  \n",
      "999998   ec.gp.GPIndividual@753524926{-1744320930}  \n",
      "999999    ec.gp.GPIndividual@316659893{1895902895}  \n",
      "\n",
      "[1000000 rows x 12 columns]\n"
     ]
    }
   ],
   "source": [
    "print(df2)"
   ]
  },
  {
   "cell_type": "code",
   "execution_count": 18,
   "id": "fc6b8021-e2c2-46f2-92fe-15a76a9bf5b0",
   "metadata": {},
   "outputs": [
    {
     "data": {
      "text/plain": [
       "0.388"
      ]
     },
     "execution_count": 18,
     "metadata": {},
     "output_type": "execute_result"
    }
   ],
   "source": [
    "#df2 = df2.drop('Node Name', axis=1)\n",
    "#df2\n",
    "generate_target2(50.0, 45000.0,0.03,10,0.6, 0.4)\n",
    "#df4 = df2.sort_values('Tiempo(ms)')\n",
    "#df4.to_csv('./data/kp/datos-1000-sorted.csv', index = False)\n",
    "#df4"
   ]
  },
  {
   "cell_type": "code",
   "execution_count": 12,
   "id": "c56100d0-c012-41c5-989a-b5cd1e243915",
   "metadata": {},
   "outputs": [],
   "source": [
    "df2['score_aceptabilidad'] = df2.apply(lambda row: generate_binary_label(generate_target2(50.0,row[\"Tiempo(ms)\"], \n",
    "                                                                     row['ErrorRelativoPromedio'],10,\n",
    "                                                                     0.6,0.4)), axis=1)"
   ]
  },
  {
   "cell_type": "code",
   "execution_count": 13,
   "id": "5dc53dae-7559-4503-b853-4b02ed5a5522",
   "metadata": {},
   "outputs": [
    {
     "data": {
      "text/plain": [
       "0         0\n",
       "1         0\n",
       "2         0\n",
       "3         0\n",
       "4         0\n",
       "         ..\n",
       "999995    1\n",
       "999996    1\n",
       "999997    1\n",
       "999998    1\n",
       "999999    1\n",
       "Name: score_aceptabilidad, Length: 1000000, dtype: int64"
      ]
     },
     "execution_count": 13,
     "metadata": {},
     "output_type": "execute_result"
    }
   ],
   "source": [
    "df2['score_aceptabilidad']"
   ]
  },
  {
   "cell_type": "code",
   "execution_count": 14,
   "id": "e0ed5579-952b-487b-96e1-610b8c525ad7",
   "metadata": {},
   "outputs": [
    {
     "data": {
      "text/html": [
       "<div>\n",
       "<style scoped>\n",
       "    .dataframe tbody tr th:only-of-type {\n",
       "        vertical-align: middle;\n",
       "    }\n",
       "\n",
       "    .dataframe tbody tr th {\n",
       "        vertical-align: top;\n",
       "    }\n",
       "\n",
       "    .dataframe thead th {\n",
       "        text-align: right;\n",
       "    }\n",
       "</style>\n",
       "<table border=\"1\" class=\"dataframe\">\n",
       "  <thead>\n",
       "    <tr style=\"text-align: right;\">\n",
       "      <th></th>\n",
       "      <th>Generacion</th>\n",
       "      <th>Numero de Nodos</th>\n",
       "      <th>Numero de Terminales</th>\n",
       "      <th>Numero de Funciones</th>\n",
       "      <th>Iteraciones Promedio DoWhile</th>\n",
       "      <th>Terminal Agregar</th>\n",
       "      <th>Terminal Eliminar</th>\n",
       "      <th>Terminal Mejora</th>\n",
       "      <th>Profundidad</th>\n",
       "      <th>score_aceptabilidad</th>\n",
       "    </tr>\n",
       "  </thead>\n",
       "  <tbody>\n",
       "    <tr>\n",
       "      <th>0</th>\n",
       "      <td>0</td>\n",
       "      <td>4</td>\n",
       "      <td>3</td>\n",
       "      <td>1</td>\n",
       "      <td>0</td>\n",
       "      <td>1</td>\n",
       "      <td>0</td>\n",
       "      <td>1</td>\n",
       "      <td>2</td>\n",
       "      <td>0</td>\n",
       "    </tr>\n",
       "    <tr>\n",
       "      <th>1</th>\n",
       "      <td>0</td>\n",
       "      <td>2</td>\n",
       "      <td>1</td>\n",
       "      <td>1</td>\n",
       "      <td>0</td>\n",
       "      <td>0</td>\n",
       "      <td>0</td>\n",
       "      <td>1</td>\n",
       "      <td>2</td>\n",
       "      <td>0</td>\n",
       "    </tr>\n",
       "    <tr>\n",
       "      <th>2</th>\n",
       "      <td>0</td>\n",
       "      <td>7</td>\n",
       "      <td>4</td>\n",
       "      <td>3</td>\n",
       "      <td>200</td>\n",
       "      <td>2</td>\n",
       "      <td>1</td>\n",
       "      <td>1</td>\n",
       "      <td>3</td>\n",
       "      <td>0</td>\n",
       "    </tr>\n",
       "    <tr>\n",
       "      <th>3</th>\n",
       "      <td>0</td>\n",
       "      <td>4</td>\n",
       "      <td>2</td>\n",
       "      <td>2</td>\n",
       "      <td>0</td>\n",
       "      <td>0</td>\n",
       "      <td>2</td>\n",
       "      <td>0</td>\n",
       "      <td>3</td>\n",
       "      <td>0</td>\n",
       "    </tr>\n",
       "    <tr>\n",
       "      <th>4</th>\n",
       "      <td>0</td>\n",
       "      <td>10</td>\n",
       "      <td>4</td>\n",
       "      <td>6</td>\n",
       "      <td>0</td>\n",
       "      <td>1</td>\n",
       "      <td>1</td>\n",
       "      <td>0</td>\n",
       "      <td>5</td>\n",
       "      <td>0</td>\n",
       "    </tr>\n",
       "    <tr>\n",
       "      <th>...</th>\n",
       "      <td>...</td>\n",
       "      <td>...</td>\n",
       "      <td>...</td>\n",
       "      <td>...</td>\n",
       "      <td>...</td>\n",
       "      <td>...</td>\n",
       "      <td>...</td>\n",
       "      <td>...</td>\n",
       "      <td>...</td>\n",
       "      <td>...</td>\n",
       "    </tr>\n",
       "    <tr>\n",
       "      <th>999995</th>\n",
       "      <td>999</td>\n",
       "      <td>352</td>\n",
       "      <td>171</td>\n",
       "      <td>181</td>\n",
       "      <td>1400</td>\n",
       "      <td>83</td>\n",
       "      <td>49</td>\n",
       "      <td>7</td>\n",
       "      <td>20</td>\n",
       "      <td>1</td>\n",
       "    </tr>\n",
       "    <tr>\n",
       "      <th>999996</th>\n",
       "      <td>999</td>\n",
       "      <td>364</td>\n",
       "      <td>177</td>\n",
       "      <td>187</td>\n",
       "      <td>1400</td>\n",
       "      <td>86</td>\n",
       "      <td>54</td>\n",
       "      <td>7</td>\n",
       "      <td>20</td>\n",
       "      <td>1</td>\n",
       "    </tr>\n",
       "    <tr>\n",
       "      <th>999997</th>\n",
       "      <td>999</td>\n",
       "      <td>326</td>\n",
       "      <td>160</td>\n",
       "      <td>166</td>\n",
       "      <td>1800</td>\n",
       "      <td>70</td>\n",
       "      <td>50</td>\n",
       "      <td>7</td>\n",
       "      <td>20</td>\n",
       "      <td>1</td>\n",
       "    </tr>\n",
       "    <tr>\n",
       "      <th>999998</th>\n",
       "      <td>999</td>\n",
       "      <td>280</td>\n",
       "      <td>136</td>\n",
       "      <td>144</td>\n",
       "      <td>1000</td>\n",
       "      <td>68</td>\n",
       "      <td>34</td>\n",
       "      <td>8</td>\n",
       "      <td>20</td>\n",
       "      <td>1</td>\n",
       "    </tr>\n",
       "    <tr>\n",
       "      <th>999999</th>\n",
       "      <td>999</td>\n",
       "      <td>339</td>\n",
       "      <td>167</td>\n",
       "      <td>172</td>\n",
       "      <td>1400</td>\n",
       "      <td>79</td>\n",
       "      <td>50</td>\n",
       "      <td>8</td>\n",
       "      <td>20</td>\n",
       "      <td>1</td>\n",
       "    </tr>\n",
       "  </tbody>\n",
       "</table>\n",
       "<p>1000000 rows × 10 columns</p>\n",
       "</div>"
      ],
      "text/plain": [
       "        Generacion  Numero de Nodos  Numero de Terminales  \\\n",
       "0                0                4                     3   \n",
       "1                0                2                     1   \n",
       "2                0                7                     4   \n",
       "3                0                4                     2   \n",
       "4                0               10                     4   \n",
       "...            ...              ...                   ...   \n",
       "999995         999              352                   171   \n",
       "999996         999              364                   177   \n",
       "999997         999              326                   160   \n",
       "999998         999              280                   136   \n",
       "999999         999              339                   167   \n",
       "\n",
       "        Numero de Funciones  Iteraciones Promedio DoWhile  Terminal Agregar  \\\n",
       "0                         1                             0                 1   \n",
       "1                         1                             0                 0   \n",
       "2                         3                           200                 2   \n",
       "3                         2                             0                 0   \n",
       "4                         6                             0                 1   \n",
       "...                     ...                           ...               ...   \n",
       "999995                  181                          1400                83   \n",
       "999996                  187                          1400                86   \n",
       "999997                  166                          1800                70   \n",
       "999998                  144                          1000                68   \n",
       "999999                  172                          1400                79   \n",
       "\n",
       "        Terminal Eliminar  Terminal Mejora  Profundidad  score_aceptabilidad  \n",
       "0                       0                1            2                    0  \n",
       "1                       0                1            2                    0  \n",
       "2                       1                1            3                    0  \n",
       "3                       2                0            3                    0  \n",
       "4                       1                0            5                    0  \n",
       "...                   ...              ...          ...                  ...  \n",
       "999995                 49                7           20                    1  \n",
       "999996                 54                7           20                    1  \n",
       "999997                 50                7           20                    1  \n",
       "999998                 34                8           20                    1  \n",
       "999999                 50                8           20                    1  \n",
       "\n",
       "[1000000 rows x 10 columns]"
      ]
     },
     "metadata": {},
     "output_type": "display_data"
    }
   ],
   "source": [
    "df3 = df2.drop(['Tiempo(ms)', 'ErrorRelativoPromedio'], axis=1)\n",
    "display(df3)"
   ]
  },
  {
   "cell_type": "code",
   "execution_count": 19,
   "id": "d3ac1137-d76b-4f8c-917d-b613781a26ca",
   "metadata": {},
   "outputs": [],
   "source": [
    "df3.to_csv('./data/cgp/set-1000.csv', index=False)"
   ]
  },
  {
   "cell_type": "code",
   "execution_count": null,
   "id": "6a5baa2c-9325-4157-8fd2-8b3b8862caee",
   "metadata": {},
   "outputs": [],
   "source": []
  }
 ],
 "metadata": {
  "kernelspec": {
   "display_name": "Python 3 (ipykernel)",
   "language": "python",
   "name": "python3"
  },
  "language_info": {
   "codemirror_mode": {
    "name": "ipython",
    "version": 3
   },
   "file_extension": ".py",
   "mimetype": "text/x-python",
   "name": "python",
   "nbconvert_exporter": "python",
   "pygments_lexer": "ipython3",
   "version": "3.12.0"
  }
 },
 "nbformat": 4,
 "nbformat_minor": 5
}
